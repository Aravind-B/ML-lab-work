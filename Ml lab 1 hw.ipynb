{
 "cells": [
  {
   "cell_type": "markdown",
   "metadata": {},
   "source": [
    "\n",
    " $$Programs $$ $$ 1. (a+b)^2 = a^2 + b^2 + 2ab $$"
   ]
  },
  {
   "cell_type": "code",
   "execution_count": 2,
   "metadata": {},
   "outputs": [
    {
     "name": "stdout",
     "output_type": "stream",
     "text": [
      "64\n"
     ]
    }
   ],
   "source": [
    "import tensorflow as tf\n",
    "a = tf.multiply(3, 3,)\n",
    "b = tf.multiply(5, 5)\n",
    "c = tf.add(a, b,)\n",
    "d = tf.multiply(2, 3,)\n",
    "e = tf.multiply(d, 5,)\n",
    "f = tf.add(c, e)\n",
    "\n",
    "with tf.Session() as sess:\n",
    "    writer = tf.summary.FileWriter(\"/tmp/tboard/op\", sess.graph)\n",
    "    print(sess.run(f))\n",
    "    writer.close()"
   ]
  },
  {
   "cell_type": "markdown",
   "metadata": {},
   "source": [
    "$$ 2. (a+b+c)^2 = a^2 + b^2 + 2ab +2bc + 2ca $$"
   ]
  },
  {
   "cell_type": "code",
   "execution_count": 4,
   "metadata": {},
   "outputs": [
    {
     "name": "stdout",
     "output_type": "stream",
     "text": [
      "36\n"
     ]
    }
   ],
   "source": [
    "import tensorflow as tf\n",
    "a = tf.multiply(1, 1,)\n",
    "b = tf.multiply(2, 2)\n",
    "c = tf.multiply(3, 3)\n",
    "d = tf.add(a, b,)\n",
    "e = tf.add(d, c,)\n",
    "f = tf.multiply(2, 1,)\n",
    "g = tf.multiply(f, 2,)\n",
    "h = tf.multiply(2, 2,)\n",
    "i = tf.multiply(h, 3,)\n",
    "j = tf.multiply(2, 3,)\n",
    "k = tf.multiply(j, 1,)\n",
    "l = tf.add(e, g,)\n",
    "m = tf.add(l, i,)\n",
    "n = tf.add(m, k)\n",
    "\n",
    "with tf.Session() as sess:\n",
    "    writer = tf.summary.FileWriter(\"/tmp/tboard/op1\", sess.graph)\n",
    "    print(sess.run(n))\n",
    "    writer.close()"
   ]
  },
  {
   "cell_type": "code",
   "execution_count": null,
   "metadata": {
    "collapsed": true
   },
   "outputs": [],
   "source": []
  }
 ],
 "metadata": {
  "kernelspec": {
   "display_name": "Python 3",
   "language": "python",
   "name": "python3"
  },
  "language_info": {
   "codemirror_mode": {
    "name": "ipython",
    "version": 3
   },
   "file_extension": ".py",
   "mimetype": "text/x-python",
   "name": "python",
   "nbconvert_exporter": "python",
   "pygments_lexer": "ipython3",
   "version": "3.6.1"
  }
 },
 "nbformat": 4,
 "nbformat_minor": 2
}
